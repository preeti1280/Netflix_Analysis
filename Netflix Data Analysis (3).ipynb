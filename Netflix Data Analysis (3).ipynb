{
 "cells": [
  {
   "cell_type": "markdown",
   "id": "1c1aa088",
   "metadata": {},
   "source": [
    "# Netflix Data Analysis\n",
    "\n",
    "I am currently engaged in an exciting project focusing on Exploratory Data Analysis (EDA) of a comprehensive dataset related to Netflix content. This dataset encompasses valuable information about both movies and TV shows available on the platform, providing a rich resource for analysis.\n",
    "\n",
    "#### Dataset Content\n",
    "\n",
    "The dataset includes key details such as titles, genres, release dates, ratings, and cast information for the vast array of content offered on Netflix.\n",
    "\n",
    "#### Project Objective\n",
    "\n",
    "The primary objective of this project is to conduct thorough Exploratory Data Analysis (EDA) to unveil meaningful insights and draw valuable conclusions from the provided dataset. By employing statistical and visual exploration techniques, I aim to understand the underlying patterns, trends, and relationships within the data."
   ]
  },
  {
   "cell_type": "code",
   "execution_count": 1,
   "id": "c78b470a",
   "metadata": {},
   "outputs": [],
   "source": [
    "# Importing major libraries \n",
    "\n",
    "import pandas as pd \n",
    "import numpy as np \n",
    "import seaborn as sns\n",
    "from matplotlib import pyplot as plt \n",
    "import plotly.express as px\n",
    "import warnings\n",
    "warnings.filterwarnings(\"ignore\")"
   ]
  },
  {
   "cell_type": "code",
   "execution_count": 2,
   "id": "a4d9618d",
   "metadata": {},
   "outputs": [],
   "source": [
    "# Loading Dataset \n",
    "\n",
    "df = pd.read_csv(\"netflix_titles.csv\")"
   ]
  },
  {
   "cell_type": "code",
   "execution_count": 3,
   "id": "e740c300",
   "metadata": {},
   "outputs": [
    {
     "data": {
      "text/html": [
       "<div>\n",
       "<style scoped>\n",
       "    .dataframe tbody tr th:only-of-type {\n",
       "        vertical-align: middle;\n",
       "    }\n",
       "\n",
       "    .dataframe tbody tr th {\n",
       "        vertical-align: top;\n",
       "    }\n",
       "\n",
       "    .dataframe thead th {\n",
       "        text-align: right;\n",
       "    }\n",
       "</style>\n",
       "<table border=\"1\" class=\"dataframe\">\n",
       "  <thead>\n",
       "    <tr style=\"text-align: right;\">\n",
       "      <th></th>\n",
       "      <th>show_id</th>\n",
       "      <th>type</th>\n",
       "      <th>title</th>\n",
       "      <th>director</th>\n",
       "      <th>cast</th>\n",
       "      <th>country</th>\n",
       "      <th>date_added</th>\n",
       "      <th>release_year</th>\n",
       "      <th>rating</th>\n",
       "      <th>duration</th>\n",
       "      <th>listed_in</th>\n",
       "      <th>description</th>\n",
       "    </tr>\n",
       "  </thead>\n",
       "  <tbody>\n",
       "    <tr>\n",
       "      <th>0</th>\n",
       "      <td>s1</td>\n",
       "      <td>Movie</td>\n",
       "      <td>Dick Johnson Is Dead</td>\n",
       "      <td>Kirsten Johnson</td>\n",
       "      <td>NaN</td>\n",
       "      <td>United States</td>\n",
       "      <td>September 25, 2021</td>\n",
       "      <td>2020</td>\n",
       "      <td>PG-13</td>\n",
       "      <td>90 min</td>\n",
       "      <td>Documentaries</td>\n",
       "      <td>As her father nears the end of his life, filmm...</td>\n",
       "    </tr>\n",
       "    <tr>\n",
       "      <th>1</th>\n",
       "      <td>s2</td>\n",
       "      <td>TV Show</td>\n",
       "      <td>Blood &amp; Water</td>\n",
       "      <td>NaN</td>\n",
       "      <td>Ama Qamata, Khosi Ngema, Gail Mabalane, Thaban...</td>\n",
       "      <td>South Africa</td>\n",
       "      <td>September 24, 2021</td>\n",
       "      <td>2021</td>\n",
       "      <td>TV-MA</td>\n",
       "      <td>2 Seasons</td>\n",
       "      <td>International TV Shows, TV Dramas, TV Mysteries</td>\n",
       "      <td>After crossing paths at a party, a Cape Town t...</td>\n",
       "    </tr>\n",
       "    <tr>\n",
       "      <th>2</th>\n",
       "      <td>s3</td>\n",
       "      <td>TV Show</td>\n",
       "      <td>Ganglands</td>\n",
       "      <td>Julien Leclercq</td>\n",
       "      <td>Sami Bouajila, Tracy Gotoas, Samuel Jouy, Nabi...</td>\n",
       "      <td>NaN</td>\n",
       "      <td>September 24, 2021</td>\n",
       "      <td>2021</td>\n",
       "      <td>TV-MA</td>\n",
       "      <td>1 Season</td>\n",
       "      <td>Crime TV Shows, International TV Shows, TV Act...</td>\n",
       "      <td>To protect his family from a powerful drug lor...</td>\n",
       "    </tr>\n",
       "    <tr>\n",
       "      <th>3</th>\n",
       "      <td>s4</td>\n",
       "      <td>TV Show</td>\n",
       "      <td>Jailbirds New Orleans</td>\n",
       "      <td>NaN</td>\n",
       "      <td>NaN</td>\n",
       "      <td>NaN</td>\n",
       "      <td>September 24, 2021</td>\n",
       "      <td>2021</td>\n",
       "      <td>TV-MA</td>\n",
       "      <td>1 Season</td>\n",
       "      <td>Docuseries, Reality TV</td>\n",
       "      <td>Feuds, flirtations and toilet talk go down amo...</td>\n",
       "    </tr>\n",
       "    <tr>\n",
       "      <th>4</th>\n",
       "      <td>s5</td>\n",
       "      <td>TV Show</td>\n",
       "      <td>Kota Factory</td>\n",
       "      <td>NaN</td>\n",
       "      <td>Mayur More, Jitendra Kumar, Ranjan Raj, Alam K...</td>\n",
       "      <td>India</td>\n",
       "      <td>September 24, 2021</td>\n",
       "      <td>2021</td>\n",
       "      <td>TV-MA</td>\n",
       "      <td>2 Seasons</td>\n",
       "      <td>International TV Shows, Romantic TV Shows, TV ...</td>\n",
       "      <td>In a city of coaching centers known to train I...</td>\n",
       "    </tr>\n",
       "    <tr>\n",
       "      <th>...</th>\n",
       "      <td>...</td>\n",
       "      <td>...</td>\n",
       "      <td>...</td>\n",
       "      <td>...</td>\n",
       "      <td>...</td>\n",
       "      <td>...</td>\n",
       "      <td>...</td>\n",
       "      <td>...</td>\n",
       "      <td>...</td>\n",
       "      <td>...</td>\n",
       "      <td>...</td>\n",
       "      <td>...</td>\n",
       "    </tr>\n",
       "    <tr>\n",
       "      <th>8802</th>\n",
       "      <td>s8803</td>\n",
       "      <td>Movie</td>\n",
       "      <td>Zodiac</td>\n",
       "      <td>David Fincher</td>\n",
       "      <td>Mark Ruffalo, Jake Gyllenhaal, Robert Downey J...</td>\n",
       "      <td>United States</td>\n",
       "      <td>November 20, 2019</td>\n",
       "      <td>2007</td>\n",
       "      <td>R</td>\n",
       "      <td>158 min</td>\n",
       "      <td>Cult Movies, Dramas, Thrillers</td>\n",
       "      <td>A political cartoonist, a crime reporter and a...</td>\n",
       "    </tr>\n",
       "    <tr>\n",
       "      <th>8803</th>\n",
       "      <td>s8804</td>\n",
       "      <td>TV Show</td>\n",
       "      <td>Zombie Dumb</td>\n",
       "      <td>NaN</td>\n",
       "      <td>NaN</td>\n",
       "      <td>NaN</td>\n",
       "      <td>July 1, 2019</td>\n",
       "      <td>2018</td>\n",
       "      <td>TV-Y7</td>\n",
       "      <td>2 Seasons</td>\n",
       "      <td>Kids' TV, Korean TV Shows, TV Comedies</td>\n",
       "      <td>While living alone in a spooky town, a young g...</td>\n",
       "    </tr>\n",
       "    <tr>\n",
       "      <th>8804</th>\n",
       "      <td>s8805</td>\n",
       "      <td>Movie</td>\n",
       "      <td>Zombieland</td>\n",
       "      <td>Ruben Fleischer</td>\n",
       "      <td>Jesse Eisenberg, Woody Harrelson, Emma Stone, ...</td>\n",
       "      <td>United States</td>\n",
       "      <td>November 1, 2019</td>\n",
       "      <td>2009</td>\n",
       "      <td>R</td>\n",
       "      <td>88 min</td>\n",
       "      <td>Comedies, Horror Movies</td>\n",
       "      <td>Looking to survive in a world taken over by zo...</td>\n",
       "    </tr>\n",
       "    <tr>\n",
       "      <th>8805</th>\n",
       "      <td>s8806</td>\n",
       "      <td>Movie</td>\n",
       "      <td>Zoom</td>\n",
       "      <td>Peter Hewitt</td>\n",
       "      <td>Tim Allen, Courteney Cox, Chevy Chase, Kate Ma...</td>\n",
       "      <td>United States</td>\n",
       "      <td>January 11, 2020</td>\n",
       "      <td>2006</td>\n",
       "      <td>PG</td>\n",
       "      <td>88 min</td>\n",
       "      <td>Children &amp; Family Movies, Comedies</td>\n",
       "      <td>Dragged from civilian life, a former superhero...</td>\n",
       "    </tr>\n",
       "    <tr>\n",
       "      <th>8806</th>\n",
       "      <td>s8807</td>\n",
       "      <td>Movie</td>\n",
       "      <td>Zubaan</td>\n",
       "      <td>Mozez Singh</td>\n",
       "      <td>Vicky Kaushal, Sarah-Jane Dias, Raaghav Chanan...</td>\n",
       "      <td>India</td>\n",
       "      <td>March 2, 2019</td>\n",
       "      <td>2015</td>\n",
       "      <td>TV-14</td>\n",
       "      <td>111 min</td>\n",
       "      <td>Dramas, International Movies, Music &amp; Musicals</td>\n",
       "      <td>A scrappy but poor boy worms his way into a ty...</td>\n",
       "    </tr>\n",
       "  </tbody>\n",
       "</table>\n",
       "<p>8807 rows × 12 columns</p>\n",
       "</div>"
      ],
      "text/plain": [
       "     show_id     type                  title         director  \\\n",
       "0         s1    Movie   Dick Johnson Is Dead  Kirsten Johnson   \n",
       "1         s2  TV Show          Blood & Water              NaN   \n",
       "2         s3  TV Show              Ganglands  Julien Leclercq   \n",
       "3         s4  TV Show  Jailbirds New Orleans              NaN   \n",
       "4         s5  TV Show           Kota Factory              NaN   \n",
       "...      ...      ...                    ...              ...   \n",
       "8802   s8803    Movie                 Zodiac    David Fincher   \n",
       "8803   s8804  TV Show            Zombie Dumb              NaN   \n",
       "8804   s8805    Movie             Zombieland  Ruben Fleischer   \n",
       "8805   s8806    Movie                   Zoom     Peter Hewitt   \n",
       "8806   s8807    Movie                 Zubaan      Mozez Singh   \n",
       "\n",
       "                                                   cast        country  \\\n",
       "0                                                   NaN  United States   \n",
       "1     Ama Qamata, Khosi Ngema, Gail Mabalane, Thaban...   South Africa   \n",
       "2     Sami Bouajila, Tracy Gotoas, Samuel Jouy, Nabi...            NaN   \n",
       "3                                                   NaN            NaN   \n",
       "4     Mayur More, Jitendra Kumar, Ranjan Raj, Alam K...          India   \n",
       "...                                                 ...            ...   \n",
       "8802  Mark Ruffalo, Jake Gyllenhaal, Robert Downey J...  United States   \n",
       "8803                                                NaN            NaN   \n",
       "8804  Jesse Eisenberg, Woody Harrelson, Emma Stone, ...  United States   \n",
       "8805  Tim Allen, Courteney Cox, Chevy Chase, Kate Ma...  United States   \n",
       "8806  Vicky Kaushal, Sarah-Jane Dias, Raaghav Chanan...          India   \n",
       "\n",
       "              date_added  release_year rating   duration  \\\n",
       "0     September 25, 2021          2020  PG-13     90 min   \n",
       "1     September 24, 2021          2021  TV-MA  2 Seasons   \n",
       "2     September 24, 2021          2021  TV-MA   1 Season   \n",
       "3     September 24, 2021          2021  TV-MA   1 Season   \n",
       "4     September 24, 2021          2021  TV-MA  2 Seasons   \n",
       "...                  ...           ...    ...        ...   \n",
       "8802   November 20, 2019          2007      R    158 min   \n",
       "8803        July 1, 2019          2018  TV-Y7  2 Seasons   \n",
       "8804    November 1, 2019          2009      R     88 min   \n",
       "8805    January 11, 2020          2006     PG     88 min   \n",
       "8806       March 2, 2019          2015  TV-14    111 min   \n",
       "\n",
       "                                              listed_in  \\\n",
       "0                                         Documentaries   \n",
       "1       International TV Shows, TV Dramas, TV Mysteries   \n",
       "2     Crime TV Shows, International TV Shows, TV Act...   \n",
       "3                                Docuseries, Reality TV   \n",
       "4     International TV Shows, Romantic TV Shows, TV ...   \n",
       "...                                                 ...   \n",
       "8802                     Cult Movies, Dramas, Thrillers   \n",
       "8803             Kids' TV, Korean TV Shows, TV Comedies   \n",
       "8804                            Comedies, Horror Movies   \n",
       "8805                 Children & Family Movies, Comedies   \n",
       "8806     Dramas, International Movies, Music & Musicals   \n",
       "\n",
       "                                            description  \n",
       "0     As her father nears the end of his life, filmm...  \n",
       "1     After crossing paths at a party, a Cape Town t...  \n",
       "2     To protect his family from a powerful drug lor...  \n",
       "3     Feuds, flirtations and toilet talk go down amo...  \n",
       "4     In a city of coaching centers known to train I...  \n",
       "...                                                 ...  \n",
       "8802  A political cartoonist, a crime reporter and a...  \n",
       "8803  While living alone in a spooky town, a young g...  \n",
       "8804  Looking to survive in a world taken over by zo...  \n",
       "8805  Dragged from civilian life, a former superhero...  \n",
       "8806  A scrappy but poor boy worms his way into a ty...  \n",
       "\n",
       "[8807 rows x 12 columns]"
      ]
     },
     "execution_count": 3,
     "metadata": {},
     "output_type": "execute_result"
    }
   ],
   "source": [
    "# Viewing dataset\n",
    "\n",
    "df"
   ]
  },
  {
   "cell_type": "code",
   "execution_count": 4,
   "id": "69ddcd30",
   "metadata": {},
   "outputs": [
    {
     "data": {
      "text/html": [
       "<div>\n",
       "<style scoped>\n",
       "    .dataframe tbody tr th:only-of-type {\n",
       "        vertical-align: middle;\n",
       "    }\n",
       "\n",
       "    .dataframe tbody tr th {\n",
       "        vertical-align: top;\n",
       "    }\n",
       "\n",
       "    .dataframe thead th {\n",
       "        text-align: right;\n",
       "    }\n",
       "</style>\n",
       "<table border=\"1\" class=\"dataframe\">\n",
       "  <thead>\n",
       "    <tr style=\"text-align: right;\">\n",
       "      <th></th>\n",
       "      <th>release_year</th>\n",
       "    </tr>\n",
       "  </thead>\n",
       "  <tbody>\n",
       "    <tr>\n",
       "      <th>count</th>\n",
       "      <td>8807.000000</td>\n",
       "    </tr>\n",
       "    <tr>\n",
       "      <th>mean</th>\n",
       "      <td>2014.180198</td>\n",
       "    </tr>\n",
       "    <tr>\n",
       "      <th>std</th>\n",
       "      <td>8.819312</td>\n",
       "    </tr>\n",
       "    <tr>\n",
       "      <th>min</th>\n",
       "      <td>1925.000000</td>\n",
       "    </tr>\n",
       "    <tr>\n",
       "      <th>25%</th>\n",
       "      <td>2013.000000</td>\n",
       "    </tr>\n",
       "    <tr>\n",
       "      <th>50%</th>\n",
       "      <td>2017.000000</td>\n",
       "    </tr>\n",
       "    <tr>\n",
       "      <th>75%</th>\n",
       "      <td>2019.000000</td>\n",
       "    </tr>\n",
       "    <tr>\n",
       "      <th>max</th>\n",
       "      <td>2021.000000</td>\n",
       "    </tr>\n",
       "  </tbody>\n",
       "</table>\n",
       "</div>"
      ],
      "text/plain": [
       "       release_year\n",
       "count   8807.000000\n",
       "mean    2014.180198\n",
       "std        8.819312\n",
       "min     1925.000000\n",
       "25%     2013.000000\n",
       "50%     2017.000000\n",
       "75%     2019.000000\n",
       "max     2021.000000"
      ]
     },
     "execution_count": 4,
     "metadata": {},
     "output_type": "execute_result"
    }
   ],
   "source": [
    "# Description of data\n",
    "\n",
    "df.describe()"
   ]
  },
  {
   "cell_type": "markdown",
   "id": "bbb7225d",
   "metadata": {},
   "source": [
    "- The dataset consists of a single row with numerical values."
   ]
  },
  {
   "cell_type": "code",
   "execution_count": 5,
   "id": "8fed4a4a",
   "metadata": {},
   "outputs": [
    {
     "name": "stdout",
     "output_type": "stream",
     "text": [
      "<class 'pandas.core.frame.DataFrame'>\n",
      "RangeIndex: 8807 entries, 0 to 8806\n",
      "Data columns (total 12 columns):\n",
      " #   Column        Non-Null Count  Dtype \n",
      "---  ------        --------------  ----- \n",
      " 0   show_id       8807 non-null   object\n",
      " 1   type          8807 non-null   object\n",
      " 2   title         8807 non-null   object\n",
      " 3   director      6173 non-null   object\n",
      " 4   cast          7982 non-null   object\n",
      " 5   country       7976 non-null   object\n",
      " 6   date_added    8797 non-null   object\n",
      " 7   release_year  8807 non-null   int64 \n",
      " 8   rating        8803 non-null   object\n",
      " 9   duration      8804 non-null   object\n",
      " 10  listed_in     8807 non-null   object\n",
      " 11  description   8807 non-null   object\n",
      "dtypes: int64(1), object(11)\n",
      "memory usage: 825.8+ KB\n"
     ]
    }
   ],
   "source": [
    "# Information of Data\n",
    "\n",
    "df.info()"
   ]
  },
  {
   "cell_type": "markdown",
   "id": "7e789de2",
   "metadata": {},
   "source": [
    "- We have a total of 8807 columns in the dataset.\n",
    "- We possess a dataset featuring 1 numerical column, capturing release years, and 11 object-type columns containing textual or categorical data."
   ]
  },
  {
   "cell_type": "markdown",
   "id": "0c5b47ad",
   "metadata": {},
   "source": [
    "### Dealing with inconsistencies in data"
   ]
  },
  {
   "cell_type": "code",
   "execution_count": 6,
   "id": "74ec14ed",
   "metadata": {},
   "outputs": [
    {
     "data": {
      "text/plain": [
       "show_id            0\n",
       "type               0\n",
       "title              0\n",
       "director        2634\n",
       "cast             825\n",
       "country          831\n",
       "date_added        10\n",
       "release_year       0\n",
       "rating             4\n",
       "duration           3\n",
       "listed_in          0\n",
       "description        0\n",
       "dtype: int64"
      ]
     },
     "execution_count": 6,
     "metadata": {},
     "output_type": "execute_result"
    }
   ],
   "source": [
    "# checking number of null values\n",
    "\n",
    "df.isnull().sum()"
   ]
  },
  {
   "cell_type": "markdown",
   "id": "373576b3",
   "metadata": {},
   "source": [
    "Certainly. The mentioned columns have the following counts of null values:\n",
    "\n",
    "- **Director:** 2634 null values\n",
    "- **Cast:** 825 null values\n",
    "- **Country:** 831 null values\n",
    "- **Date Added:** 10 null values\n",
    "- **Rating:** 4 null values"
   ]
  },
  {
   "cell_type": "code",
   "execution_count": 7,
   "id": "4e0d335b",
   "metadata": {},
   "outputs": [
    {
     "data": {
      "text/plain": [
       "4307"
      ]
     },
     "execution_count": 7,
     "metadata": {},
     "output_type": "execute_result"
    }
   ],
   "source": [
    "df.isnull().sum().sum()"
   ]
  },
  {
   "cell_type": "markdown",
   "id": "52bf26dc",
   "metadata": {},
   "source": [
    "Certainly. In the dataset, there are a total of 4307 null values across all columns."
   ]
  },
  {
   "cell_type": "code",
   "execution_count": 8,
   "id": "7fbf9e11",
   "metadata": {},
   "outputs": [
    {
     "data": {
      "text/plain": [
       "0       Kirsten Johnson\n",
       "1                   NaN\n",
       "2       Julien Leclercq\n",
       "3                   NaN\n",
       "4                   NaN\n",
       "             ...       \n",
       "8802      David Fincher\n",
       "8803                NaN\n",
       "8804    Ruben Fleischer\n",
       "8805       Peter Hewitt\n",
       "8806        Mozez Singh\n",
       "Name: director, Length: 8807, dtype: object"
      ]
     },
     "execution_count": 8,
     "metadata": {},
     "output_type": "execute_result"
    }
   ],
   "source": [
    "# Dealing with null values in the \"Director\" column\n",
    "\n",
    "df.director"
   ]
  },
  {
   "cell_type": "code",
   "execution_count": 9,
   "id": "3d90b02b",
   "metadata": {},
   "outputs": [
    {
     "data": {
      "text/html": [
       "<div>\n",
       "<style scoped>\n",
       "    .dataframe tbody tr th:only-of-type {\n",
       "        vertical-align: middle;\n",
       "    }\n",
       "\n",
       "    .dataframe tbody tr th {\n",
       "        vertical-align: top;\n",
       "    }\n",
       "\n",
       "    .dataframe thead th {\n",
       "        text-align: right;\n",
       "    }\n",
       "</style>\n",
       "<table border=\"1\" class=\"dataframe\">\n",
       "  <thead>\n",
       "    <tr style=\"text-align: right;\">\n",
       "      <th></th>\n",
       "      <th>show_id</th>\n",
       "      <th>type</th>\n",
       "      <th>title</th>\n",
       "      <th>director</th>\n",
       "      <th>cast</th>\n",
       "      <th>country</th>\n",
       "      <th>date_added</th>\n",
       "      <th>release_year</th>\n",
       "      <th>rating</th>\n",
       "      <th>duration</th>\n",
       "      <th>listed_in</th>\n",
       "      <th>description</th>\n",
       "    </tr>\n",
       "  </thead>\n",
       "  <tbody>\n",
       "    <tr>\n",
       "      <th>0</th>\n",
       "      <td>s1</td>\n",
       "      <td>Movie</td>\n",
       "      <td>Dick Johnson Is Dead</td>\n",
       "      <td>Kirsten Johnson</td>\n",
       "      <td>NaN</td>\n",
       "      <td>United States</td>\n",
       "      <td>September 25, 2021</td>\n",
       "      <td>2020</td>\n",
       "      <td>PG-13</td>\n",
       "      <td>90 min</td>\n",
       "      <td>Documentaries</td>\n",
       "      <td>As her father nears the end of his life, filmm...</td>\n",
       "    </tr>\n",
       "    <tr>\n",
       "      <th>1</th>\n",
       "      <td>s2</td>\n",
       "      <td>TV Show</td>\n",
       "      <td>Blood &amp; Water</td>\n",
       "      <td>NaN</td>\n",
       "      <td>Ama Qamata, Khosi Ngema, Gail Mabalane, Thaban...</td>\n",
       "      <td>South Africa</td>\n",
       "      <td>September 24, 2021</td>\n",
       "      <td>2021</td>\n",
       "      <td>TV-MA</td>\n",
       "      <td>2 Seasons</td>\n",
       "      <td>International TV Shows, TV Dramas, TV Mysteries</td>\n",
       "      <td>After crossing paths at a party, a Cape Town t...</td>\n",
       "    </tr>\n",
       "    <tr>\n",
       "      <th>2</th>\n",
       "      <td>s3</td>\n",
       "      <td>TV Show</td>\n",
       "      <td>Ganglands</td>\n",
       "      <td>Julien Leclercq</td>\n",
       "      <td>Sami Bouajila, Tracy Gotoas, Samuel Jouy, Nabi...</td>\n",
       "      <td>NaN</td>\n",
       "      <td>September 24, 2021</td>\n",
       "      <td>2021</td>\n",
       "      <td>TV-MA</td>\n",
       "      <td>1 Season</td>\n",
       "      <td>Crime TV Shows, International TV Shows, TV Act...</td>\n",
       "      <td>To protect his family from a powerful drug lor...</td>\n",
       "    </tr>\n",
       "    <tr>\n",
       "      <th>3</th>\n",
       "      <td>s4</td>\n",
       "      <td>TV Show</td>\n",
       "      <td>Jailbirds New Orleans</td>\n",
       "      <td>NaN</td>\n",
       "      <td>NaN</td>\n",
       "      <td>NaN</td>\n",
       "      <td>September 24, 2021</td>\n",
       "      <td>2021</td>\n",
       "      <td>TV-MA</td>\n",
       "      <td>1 Season</td>\n",
       "      <td>Docuseries, Reality TV</td>\n",
       "      <td>Feuds, flirtations and toilet talk go down amo...</td>\n",
       "    </tr>\n",
       "    <tr>\n",
       "      <th>4</th>\n",
       "      <td>s5</td>\n",
       "      <td>TV Show</td>\n",
       "      <td>Kota Factory</td>\n",
       "      <td>NaN</td>\n",
       "      <td>Mayur More, Jitendra Kumar, Ranjan Raj, Alam K...</td>\n",
       "      <td>India</td>\n",
       "      <td>September 24, 2021</td>\n",
       "      <td>2021</td>\n",
       "      <td>TV-MA</td>\n",
       "      <td>2 Seasons</td>\n",
       "      <td>International TV Shows, Romantic TV Shows, TV ...</td>\n",
       "      <td>In a city of coaching centers known to train I...</td>\n",
       "    </tr>\n",
       "    <tr>\n",
       "      <th>...</th>\n",
       "      <td>...</td>\n",
       "      <td>...</td>\n",
       "      <td>...</td>\n",
       "      <td>...</td>\n",
       "      <td>...</td>\n",
       "      <td>...</td>\n",
       "      <td>...</td>\n",
       "      <td>...</td>\n",
       "      <td>...</td>\n",
       "      <td>...</td>\n",
       "      <td>...</td>\n",
       "      <td>...</td>\n",
       "    </tr>\n",
       "    <tr>\n",
       "      <th>8802</th>\n",
       "      <td>s8803</td>\n",
       "      <td>Movie</td>\n",
       "      <td>Zodiac</td>\n",
       "      <td>David Fincher</td>\n",
       "      <td>Mark Ruffalo, Jake Gyllenhaal, Robert Downey J...</td>\n",
       "      <td>United States</td>\n",
       "      <td>November 20, 2019</td>\n",
       "      <td>2007</td>\n",
       "      <td>R</td>\n",
       "      <td>158 min</td>\n",
       "      <td>Cult Movies, Dramas, Thrillers</td>\n",
       "      <td>A political cartoonist, a crime reporter and a...</td>\n",
       "    </tr>\n",
       "    <tr>\n",
       "      <th>8803</th>\n",
       "      <td>s8804</td>\n",
       "      <td>TV Show</td>\n",
       "      <td>Zombie Dumb</td>\n",
       "      <td>NaN</td>\n",
       "      <td>NaN</td>\n",
       "      <td>NaN</td>\n",
       "      <td>July 1, 2019</td>\n",
       "      <td>2018</td>\n",
       "      <td>TV-Y7</td>\n",
       "      <td>2 Seasons</td>\n",
       "      <td>Kids' TV, Korean TV Shows, TV Comedies</td>\n",
       "      <td>While living alone in a spooky town, a young g...</td>\n",
       "    </tr>\n",
       "    <tr>\n",
       "      <th>8804</th>\n",
       "      <td>s8805</td>\n",
       "      <td>Movie</td>\n",
       "      <td>Zombieland</td>\n",
       "      <td>Ruben Fleischer</td>\n",
       "      <td>Jesse Eisenberg, Woody Harrelson, Emma Stone, ...</td>\n",
       "      <td>United States</td>\n",
       "      <td>November 1, 2019</td>\n",
       "      <td>2009</td>\n",
       "      <td>R</td>\n",
       "      <td>88 min</td>\n",
       "      <td>Comedies, Horror Movies</td>\n",
       "      <td>Looking to survive in a world taken over by zo...</td>\n",
       "    </tr>\n",
       "    <tr>\n",
       "      <th>8805</th>\n",
       "      <td>s8806</td>\n",
       "      <td>Movie</td>\n",
       "      <td>Zoom</td>\n",
       "      <td>Peter Hewitt</td>\n",
       "      <td>Tim Allen, Courteney Cox, Chevy Chase, Kate Ma...</td>\n",
       "      <td>United States</td>\n",
       "      <td>January 11, 2020</td>\n",
       "      <td>2006</td>\n",
       "      <td>PG</td>\n",
       "      <td>88 min</td>\n",
       "      <td>Children &amp; Family Movies, Comedies</td>\n",
       "      <td>Dragged from civilian life, a former superhero...</td>\n",
       "    </tr>\n",
       "    <tr>\n",
       "      <th>8806</th>\n",
       "      <td>s8807</td>\n",
       "      <td>Movie</td>\n",
       "      <td>Zubaan</td>\n",
       "      <td>Mozez Singh</td>\n",
       "      <td>Vicky Kaushal, Sarah-Jane Dias, Raaghav Chanan...</td>\n",
       "      <td>India</td>\n",
       "      <td>March 2, 2019</td>\n",
       "      <td>2015</td>\n",
       "      <td>TV-14</td>\n",
       "      <td>111 min</td>\n",
       "      <td>Dramas, International Movies, Music &amp; Musicals</td>\n",
       "      <td>A scrappy but poor boy worms his way into a ty...</td>\n",
       "    </tr>\n",
       "  </tbody>\n",
       "</table>\n",
       "<p>8807 rows × 12 columns</p>\n",
       "</div>"
      ],
      "text/plain": [
       "     show_id     type                  title         director  \\\n",
       "0         s1    Movie   Dick Johnson Is Dead  Kirsten Johnson   \n",
       "1         s2  TV Show          Blood & Water              NaN   \n",
       "2         s3  TV Show              Ganglands  Julien Leclercq   \n",
       "3         s4  TV Show  Jailbirds New Orleans              NaN   \n",
       "4         s5  TV Show           Kota Factory              NaN   \n",
       "...      ...      ...                    ...              ...   \n",
       "8802   s8803    Movie                 Zodiac    David Fincher   \n",
       "8803   s8804  TV Show            Zombie Dumb              NaN   \n",
       "8804   s8805    Movie             Zombieland  Ruben Fleischer   \n",
       "8805   s8806    Movie                   Zoom     Peter Hewitt   \n",
       "8806   s8807    Movie                 Zubaan      Mozez Singh   \n",
       "\n",
       "                                                   cast        country  \\\n",
       "0                                                   NaN  United States   \n",
       "1     Ama Qamata, Khosi Ngema, Gail Mabalane, Thaban...   South Africa   \n",
       "2     Sami Bouajila, Tracy Gotoas, Samuel Jouy, Nabi...            NaN   \n",
       "3                                                   NaN            NaN   \n",
       "4     Mayur More, Jitendra Kumar, Ranjan Raj, Alam K...          India   \n",
       "...                                                 ...            ...   \n",
       "8802  Mark Ruffalo, Jake Gyllenhaal, Robert Downey J...  United States   \n",
       "8803                                                NaN            NaN   \n",
       "8804  Jesse Eisenberg, Woody Harrelson, Emma Stone, ...  United States   \n",
       "8805  Tim Allen, Courteney Cox, Chevy Chase, Kate Ma...  United States   \n",
       "8806  Vicky Kaushal, Sarah-Jane Dias, Raaghav Chanan...          India   \n",
       "\n",
       "              date_added  release_year rating   duration  \\\n",
       "0     September 25, 2021          2020  PG-13     90 min   \n",
       "1     September 24, 2021          2021  TV-MA  2 Seasons   \n",
       "2     September 24, 2021          2021  TV-MA   1 Season   \n",
       "3     September 24, 2021          2021  TV-MA   1 Season   \n",
       "4     September 24, 2021          2021  TV-MA  2 Seasons   \n",
       "...                  ...           ...    ...        ...   \n",
       "8802   November 20, 2019          2007      R    158 min   \n",
       "8803        July 1, 2019          2018  TV-Y7  2 Seasons   \n",
       "8804    November 1, 2019          2009      R     88 min   \n",
       "8805    January 11, 2020          2006     PG     88 min   \n",
       "8806       March 2, 2019          2015  TV-14    111 min   \n",
       "\n",
       "                                              listed_in  \\\n",
       "0                                         Documentaries   \n",
       "1       International TV Shows, TV Dramas, TV Mysteries   \n",
       "2     Crime TV Shows, International TV Shows, TV Act...   \n",
       "3                                Docuseries, Reality TV   \n",
       "4     International TV Shows, Romantic TV Shows, TV ...   \n",
       "...                                                 ...   \n",
       "8802                     Cult Movies, Dramas, Thrillers   \n",
       "8803             Kids' TV, Korean TV Shows, TV Comedies   \n",
       "8804                            Comedies, Horror Movies   \n",
       "8805                 Children & Family Movies, Comedies   \n",
       "8806     Dramas, International Movies, Music & Musicals   \n",
       "\n",
       "                                            description  \n",
       "0     As her father nears the end of his life, filmm...  \n",
       "1     After crossing paths at a party, a Cape Town t...  \n",
       "2     To protect his family from a powerful drug lor...  \n",
       "3     Feuds, flirtations and toilet talk go down amo...  \n",
       "4     In a city of coaching centers known to train I...  \n",
       "...                                                 ...  \n",
       "8802  A political cartoonist, a crime reporter and a...  \n",
       "8803  While living alone in a spooky town, a young g...  \n",
       "8804  Looking to survive in a world taken over by zo...  \n",
       "8805  Dragged from civilian life, a former superhero...  \n",
       "8806  A scrappy but poor boy worms his way into a ty...  \n",
       "\n",
       "[8807 rows x 12 columns]"
      ]
     },
     "execution_count": 9,
     "metadata": {},
     "output_type": "execute_result"
    }
   ],
   "source": [
    "df"
   ]
  },
  {
   "cell_type": "markdown",
   "id": "305570f7",
   "metadata": {},
   "source": [
    "Given the dataset, as no valid director names are identified, we will populate the \"Director\" column with the placeholder \"Unknown.\""
   ]
  },
  {
   "cell_type": "code",
   "execution_count": 10,
   "id": "36c62a20",
   "metadata": {},
   "outputs": [],
   "source": [
    "df.director = df.director.fillna(\"Unknown\")"
   ]
  },
  {
   "cell_type": "code",
   "execution_count": 11,
   "id": "36ee9cee",
   "metadata": {},
   "outputs": [
    {
     "data": {
      "text/plain": [
       "0"
      ]
     },
     "execution_count": 11,
     "metadata": {},
     "output_type": "execute_result"
    }
   ],
   "source": [
    "df.director.isnull().sum()"
   ]
  },
  {
   "cell_type": "markdown",
   "id": "686b8de9",
   "metadata": {},
   "source": [
    "The \"Director\" column has been successfully rectified, and it is now free from any inconsistencies."
   ]
  },
  {
   "cell_type": "markdown",
   "id": "070cc698",
   "metadata": {},
   "source": [
    "Certainly, since there is no discernible pattern to fill the null values in the \"Cast\" (825 null values), \"Country\" (831 null values), and \"Rating\" (4 null values) columns, we will uniformly fill these columns with appropriate placeholders for ease of handling."
   ]
  },
  {
   "cell_type": "code",
   "execution_count": 12,
   "id": "3b188a60",
   "metadata": {},
   "outputs": [],
   "source": [
    "df.cast = df.cast.fillna(\"Not listed\")"
   ]
  },
  {
   "cell_type": "code",
   "execution_count": 13,
   "id": "cd0deb5e",
   "metadata": {},
   "outputs": [
    {
     "data": {
      "text/plain": [
       "0"
      ]
     },
     "execution_count": 13,
     "metadata": {},
     "output_type": "execute_result"
    }
   ],
   "source": [
    "df.cast.isnull().sum()"
   ]
  },
  {
   "cell_type": "markdown",
   "id": "61c2f42e",
   "metadata": {},
   "source": [
    "The \"cast\" column has been successfully rectified, and it is now free from any inconsistencies."
   ]
  },
  {
   "cell_type": "code",
   "execution_count": 14,
   "id": "800c9263",
   "metadata": {},
   "outputs": [],
   "source": [
    "df.country = df.country.fillna(\"Unknown\")"
   ]
  },
  {
   "cell_type": "code",
   "execution_count": 15,
   "id": "28d4fd18",
   "metadata": {},
   "outputs": [
    {
     "data": {
      "text/plain": [
       "0"
      ]
     },
     "execution_count": 15,
     "metadata": {},
     "output_type": "execute_result"
    }
   ],
   "source": [
    "df.country.isnull().sum()"
   ]
  },
  {
   "cell_type": "markdown",
   "id": "ff1baf1d",
   "metadata": {},
   "source": [
    "The \"country\" column has been successfully rectified, and it is now free from any inconsistencies."
   ]
  },
  {
   "cell_type": "markdown",
   "id": "72cfd313",
   "metadata": {},
   "source": [
    "df.rating = df.rating.fillna(\"Unknown\")"
   ]
  },
  {
   "cell_type": "code",
   "execution_count": 16,
   "id": "e20bf4f2",
   "metadata": {},
   "outputs": [
    {
     "data": {
      "text/plain": [
       "4"
      ]
     },
     "execution_count": 16,
     "metadata": {},
     "output_type": "execute_result"
    }
   ],
   "source": [
    "df.rating.isnull().sum()"
   ]
  },
  {
   "cell_type": "markdown",
   "id": "575e6379",
   "metadata": {},
   "source": [
    "The \"rating\" column has been successfully rectified, and it is now free from any inconsistencies."
   ]
  },
  {
   "cell_type": "code",
   "execution_count": 17,
   "id": "8b6697d9",
   "metadata": {},
   "outputs": [],
   "source": [
    "df.duration = df.duration.fillna(\"Unknown\")"
   ]
  },
  {
   "cell_type": "code",
   "execution_count": 18,
   "id": "14242779",
   "metadata": {},
   "outputs": [
    {
     "data": {
      "text/plain": [
       "0"
      ]
     },
     "execution_count": 18,
     "metadata": {},
     "output_type": "execute_result"
    }
   ],
   "source": [
    "df.duration.isnull().sum()"
   ]
  },
  {
   "cell_type": "markdown",
   "id": "f205c748",
   "metadata": {},
   "source": [
    "The \"duration\" column has been successfully rectified, and it is now free from any inconsistencies."
   ]
  },
  {
   "cell_type": "code",
   "execution_count": 19,
   "id": "08ae0d22",
   "metadata": {},
   "outputs": [
    {
     "data": {
      "text/html": [
       "<div>\n",
       "<style scoped>\n",
       "    .dataframe tbody tr th:only-of-type {\n",
       "        vertical-align: middle;\n",
       "    }\n",
       "\n",
       "    .dataframe tbody tr th {\n",
       "        vertical-align: top;\n",
       "    }\n",
       "\n",
       "    .dataframe thead th {\n",
       "        text-align: right;\n",
       "    }\n",
       "</style>\n",
       "<table border=\"1\" class=\"dataframe\">\n",
       "  <thead>\n",
       "    <tr style=\"text-align: right;\">\n",
       "      <th></th>\n",
       "      <th>show_id</th>\n",
       "      <th>type</th>\n",
       "      <th>title</th>\n",
       "      <th>director</th>\n",
       "      <th>cast</th>\n",
       "      <th>country</th>\n",
       "      <th>date_added</th>\n",
       "      <th>release_year</th>\n",
       "      <th>rating</th>\n",
       "      <th>duration</th>\n",
       "      <th>listed_in</th>\n",
       "      <th>description</th>\n",
       "    </tr>\n",
       "  </thead>\n",
       "  <tbody>\n",
       "    <tr>\n",
       "      <th>6066</th>\n",
       "      <td>s6067</td>\n",
       "      <td>TV Show</td>\n",
       "      <td>A Young Doctor's Notebook and Other Stories</td>\n",
       "      <td>Unknown</td>\n",
       "      <td>Daniel Radcliffe, Jon Hamm, Adam Godley, Chris...</td>\n",
       "      <td>United Kingdom</td>\n",
       "      <td>NaN</td>\n",
       "      <td>2013</td>\n",
       "      <td>TV-MA</td>\n",
       "      <td>2 Seasons</td>\n",
       "      <td>British TV Shows, TV Comedies, TV Dramas</td>\n",
       "      <td>Set during the Russian Revolution, this comic ...</td>\n",
       "    </tr>\n",
       "    <tr>\n",
       "      <th>6174</th>\n",
       "      <td>s6175</td>\n",
       "      <td>TV Show</td>\n",
       "      <td>Anthony Bourdain: Parts Unknown</td>\n",
       "      <td>Unknown</td>\n",
       "      <td>Anthony Bourdain</td>\n",
       "      <td>United States</td>\n",
       "      <td>NaN</td>\n",
       "      <td>2018</td>\n",
       "      <td>TV-PG</td>\n",
       "      <td>5 Seasons</td>\n",
       "      <td>Docuseries</td>\n",
       "      <td>This CNN original series has chef Anthony Bour...</td>\n",
       "    </tr>\n",
       "    <tr>\n",
       "      <th>6795</th>\n",
       "      <td>s6796</td>\n",
       "      <td>TV Show</td>\n",
       "      <td>Frasier</td>\n",
       "      <td>Unknown</td>\n",
       "      <td>Kelsey Grammer, Jane Leeves, David Hyde Pierce...</td>\n",
       "      <td>United States</td>\n",
       "      <td>NaN</td>\n",
       "      <td>2003</td>\n",
       "      <td>TV-PG</td>\n",
       "      <td>11 Seasons</td>\n",
       "      <td>Classic &amp; Cult TV, TV Comedies</td>\n",
       "      <td>Frasier Crane is a snooty but lovable Seattle ...</td>\n",
       "    </tr>\n",
       "    <tr>\n",
       "      <th>6806</th>\n",
       "      <td>s6807</td>\n",
       "      <td>TV Show</td>\n",
       "      <td>Friends</td>\n",
       "      <td>Unknown</td>\n",
       "      <td>Jennifer Aniston, Courteney Cox, Lisa Kudrow, ...</td>\n",
       "      <td>United States</td>\n",
       "      <td>NaN</td>\n",
       "      <td>2003</td>\n",
       "      <td>TV-14</td>\n",
       "      <td>10 Seasons</td>\n",
       "      <td>Classic &amp; Cult TV, TV Comedies</td>\n",
       "      <td>This hit sitcom follows the merry misadventure...</td>\n",
       "    </tr>\n",
       "    <tr>\n",
       "      <th>6901</th>\n",
       "      <td>s6902</td>\n",
       "      <td>TV Show</td>\n",
       "      <td>Gunslinger Girl</td>\n",
       "      <td>Unknown</td>\n",
       "      <td>Yuuka Nanri, Kanako Mitsuhashi, Eri Sendai, Am...</td>\n",
       "      <td>Japan</td>\n",
       "      <td>NaN</td>\n",
       "      <td>2008</td>\n",
       "      <td>TV-14</td>\n",
       "      <td>2 Seasons</td>\n",
       "      <td>Anime Series, Crime TV Shows</td>\n",
       "      <td>On the surface, the Social Welfare Agency appe...</td>\n",
       "    </tr>\n",
       "    <tr>\n",
       "      <th>7196</th>\n",
       "      <td>s7197</td>\n",
       "      <td>TV Show</td>\n",
       "      <td>Kikoriki</td>\n",
       "      <td>Unknown</td>\n",
       "      <td>Igor Dmitriev</td>\n",
       "      <td>Unknown</td>\n",
       "      <td>NaN</td>\n",
       "      <td>2010</td>\n",
       "      <td>TV-Y</td>\n",
       "      <td>2 Seasons</td>\n",
       "      <td>Kids' TV</td>\n",
       "      <td>A wacky rabbit and his gang of animal pals hav...</td>\n",
       "    </tr>\n",
       "    <tr>\n",
       "      <th>7254</th>\n",
       "      <td>s7255</td>\n",
       "      <td>TV Show</td>\n",
       "      <td>La Familia P. Luche</td>\n",
       "      <td>Unknown</td>\n",
       "      <td>Eugenio Derbez, Consuelo Duval, Luis Manuel Áv...</td>\n",
       "      <td>United States</td>\n",
       "      <td>NaN</td>\n",
       "      <td>2012</td>\n",
       "      <td>TV-14</td>\n",
       "      <td>3 Seasons</td>\n",
       "      <td>International TV Shows, Spanish-Language TV Sh...</td>\n",
       "      <td>This irreverent sitcom featues Ludovico, Feder...</td>\n",
       "    </tr>\n",
       "    <tr>\n",
       "      <th>7406</th>\n",
       "      <td>s7407</td>\n",
       "      <td>TV Show</td>\n",
       "      <td>Maron</td>\n",
       "      <td>Unknown</td>\n",
       "      <td>Marc Maron, Judd Hirsch, Josh Brener, Nora Zeh...</td>\n",
       "      <td>United States</td>\n",
       "      <td>NaN</td>\n",
       "      <td>2016</td>\n",
       "      <td>TV-MA</td>\n",
       "      <td>4 Seasons</td>\n",
       "      <td>TV Comedies</td>\n",
       "      <td>Marc Maron stars as Marc Maron, who interviews...</td>\n",
       "    </tr>\n",
       "    <tr>\n",
       "      <th>7847</th>\n",
       "      <td>s7848</td>\n",
       "      <td>TV Show</td>\n",
       "      <td>Red vs. Blue</td>\n",
       "      <td>Unknown</td>\n",
       "      <td>Burnie Burns, Jason Saldaña, Gustavo Sorola, G...</td>\n",
       "      <td>United States</td>\n",
       "      <td>NaN</td>\n",
       "      <td>2015</td>\n",
       "      <td>NR</td>\n",
       "      <td>13 Seasons</td>\n",
       "      <td>TV Action &amp; Adventure, TV Comedies, TV Sci-Fi ...</td>\n",
       "      <td>This parody of first-person shooter games, mil...</td>\n",
       "    </tr>\n",
       "    <tr>\n",
       "      <th>8182</th>\n",
       "      <td>s8183</td>\n",
       "      <td>TV Show</td>\n",
       "      <td>The Adventures of Figaro Pho</td>\n",
       "      <td>Unknown</td>\n",
       "      <td>Luke Jurevicius, Craig Behenna, Charlotte Haml...</td>\n",
       "      <td>Australia</td>\n",
       "      <td>NaN</td>\n",
       "      <td>2015</td>\n",
       "      <td>TV-Y7</td>\n",
       "      <td>2 Seasons</td>\n",
       "      <td>Kids' TV, TV Comedies</td>\n",
       "      <td>Imagine your worst fears, then multiply them: ...</td>\n",
       "    </tr>\n",
       "  </tbody>\n",
       "</table>\n",
       "</div>"
      ],
      "text/plain": [
       "     show_id     type                                        title director  \\\n",
       "6066   s6067  TV Show  A Young Doctor's Notebook and Other Stories  Unknown   \n",
       "6174   s6175  TV Show              Anthony Bourdain: Parts Unknown  Unknown   \n",
       "6795   s6796  TV Show                                      Frasier  Unknown   \n",
       "6806   s6807  TV Show                                      Friends  Unknown   \n",
       "6901   s6902  TV Show                              Gunslinger Girl  Unknown   \n",
       "7196   s7197  TV Show                                     Kikoriki  Unknown   \n",
       "7254   s7255  TV Show                          La Familia P. Luche  Unknown   \n",
       "7406   s7407  TV Show                                        Maron  Unknown   \n",
       "7847   s7848  TV Show                                 Red vs. Blue  Unknown   \n",
       "8182   s8183  TV Show                 The Adventures of Figaro Pho  Unknown   \n",
       "\n",
       "                                                   cast         country  \\\n",
       "6066  Daniel Radcliffe, Jon Hamm, Adam Godley, Chris...  United Kingdom   \n",
       "6174                                   Anthony Bourdain   United States   \n",
       "6795  Kelsey Grammer, Jane Leeves, David Hyde Pierce...   United States   \n",
       "6806  Jennifer Aniston, Courteney Cox, Lisa Kudrow, ...   United States   \n",
       "6901  Yuuka Nanri, Kanako Mitsuhashi, Eri Sendai, Am...           Japan   \n",
       "7196                                      Igor Dmitriev         Unknown   \n",
       "7254  Eugenio Derbez, Consuelo Duval, Luis Manuel Áv...   United States   \n",
       "7406  Marc Maron, Judd Hirsch, Josh Brener, Nora Zeh...   United States   \n",
       "7847  Burnie Burns, Jason Saldaña, Gustavo Sorola, G...   United States   \n",
       "8182  Luke Jurevicius, Craig Behenna, Charlotte Haml...       Australia   \n",
       "\n",
       "     date_added  release_year rating    duration  \\\n",
       "6066        NaN          2013  TV-MA   2 Seasons   \n",
       "6174        NaN          2018  TV-PG   5 Seasons   \n",
       "6795        NaN          2003  TV-PG  11 Seasons   \n",
       "6806        NaN          2003  TV-14  10 Seasons   \n",
       "6901        NaN          2008  TV-14   2 Seasons   \n",
       "7196        NaN          2010   TV-Y   2 Seasons   \n",
       "7254        NaN          2012  TV-14   3 Seasons   \n",
       "7406        NaN          2016  TV-MA   4 Seasons   \n",
       "7847        NaN          2015     NR  13 Seasons   \n",
       "8182        NaN          2015  TV-Y7   2 Seasons   \n",
       "\n",
       "                                              listed_in  \\\n",
       "6066           British TV Shows, TV Comedies, TV Dramas   \n",
       "6174                                         Docuseries   \n",
       "6795                     Classic & Cult TV, TV Comedies   \n",
       "6806                     Classic & Cult TV, TV Comedies   \n",
       "6901                       Anime Series, Crime TV Shows   \n",
       "7196                                           Kids' TV   \n",
       "7254  International TV Shows, Spanish-Language TV Sh...   \n",
       "7406                                        TV Comedies   \n",
       "7847  TV Action & Adventure, TV Comedies, TV Sci-Fi ...   \n",
       "8182                              Kids' TV, TV Comedies   \n",
       "\n",
       "                                            description  \n",
       "6066  Set during the Russian Revolution, this comic ...  \n",
       "6174  This CNN original series has chef Anthony Bour...  \n",
       "6795  Frasier Crane is a snooty but lovable Seattle ...  \n",
       "6806  This hit sitcom follows the merry misadventure...  \n",
       "6901  On the surface, the Social Welfare Agency appe...  \n",
       "7196  A wacky rabbit and his gang of animal pals hav...  \n",
       "7254  This irreverent sitcom featues Ludovico, Feder...  \n",
       "7406  Marc Maron stars as Marc Maron, who interviews...  \n",
       "7847  This parody of first-person shooter games, mil...  \n",
       "8182  Imagine your worst fears, then multiply them: ...  "
      ]
     },
     "execution_count": 19,
     "metadata": {},
     "output_type": "execute_result"
    }
   ],
   "source": [
    "df[df.date_added.isnull()]"
   ]
  },
  {
   "cell_type": "code",
   "execution_count": 20,
   "id": "6d971423",
   "metadata": {},
   "outputs": [
    {
     "data": {
      "text/plain": [
       "0       September 25, 2021\n",
       "1       September 24, 2021\n",
       "2       September 24, 2021\n",
       "3       September 24, 2021\n",
       "4       September 24, 2021\n",
       "               ...        \n",
       "8802     November 20, 2019\n",
       "8803          July 1, 2019\n",
       "8804      November 1, 2019\n",
       "8805      January 11, 2020\n",
       "8806         March 2, 2019\n",
       "Name: date_added, Length: 8807, dtype: object"
      ]
     },
     "execution_count": 20,
     "metadata": {},
     "output_type": "execute_result"
    }
   ],
   "source": [
    "df.date_added"
   ]
  },
  {
   "cell_type": "markdown",
   "id": "01d71e06",
   "metadata": {},
   "source": [
    "Certainly, considering the potential usefulness of the \"Date Added\" column for future analysis, the decision is to retain its integrity. Therefore, the approach is to remove the 10 rows with null values in the \"Date Added\" column, rather than filling them with a placeholder."
   ]
  },
  {
   "cell_type": "code",
   "execution_count": 21,
   "id": "11e0f694",
   "metadata": {},
   "outputs": [],
   "source": [
    "df.dropna(inplace=True)"
   ]
  },
  {
   "cell_type": "markdown",
   "id": "b4263cc5",
   "metadata": {},
   "source": [
    "The \"date_added\" column has been successfully rectified, and it is now free from any inconsistencies."
   ]
  },
  {
   "cell_type": "code",
   "execution_count": 22,
   "id": "a027cd07",
   "metadata": {},
   "outputs": [
    {
     "data": {
      "text/plain": [
       "show_id         0\n",
       "type            0\n",
       "title           0\n",
       "director        0\n",
       "cast            0\n",
       "country         0\n",
       "date_added      0\n",
       "release_year    0\n",
       "rating          0\n",
       "duration        0\n",
       "listed_in       0\n",
       "description     0\n",
       "dtype: int64"
      ]
     },
     "execution_count": 22,
     "metadata": {},
     "output_type": "execute_result"
    }
   ],
   "source": [
    "df.isnull().sum()"
   ]
  },
  {
   "cell_type": "markdown",
   "id": "8fbe5fa5",
   "metadata": {},
   "source": [
    "The entire dataset has been successfully rectified, and it is now devoid of any inconsistencies."
   ]
  },
  {
   "cell_type": "code",
   "execution_count": 23,
   "id": "3f4ba868",
   "metadata": {},
   "outputs": [],
   "source": [
    "# We are saving the DataFrame as a new CSV file with an extended name denoting clean data\n",
    "\n",
    "df.to_csv('netflix_cleandata.csv')"
   ]
  },
  {
   "cell_type": "markdown",
   "id": "20a9bad3",
   "metadata": {},
   "source": [
    "#### We are in the process of changing the data type of the \"date_added\" column from object to datetime to facilitate future analysis."
   ]
  },
  {
   "cell_type": "code",
   "execution_count": 24,
   "id": "775d6cd2",
   "metadata": {},
   "outputs": [],
   "source": [
    "df['date_added'] = pd.to_datetime(df['date_added'], format='%B %d, %Y', errors='coerce')"
   ]
  },
  {
   "cell_type": "code",
   "execution_count": 25,
   "id": "d2789394",
   "metadata": {},
   "outputs": [
    {
     "data": {
      "text/plain": [
       "show_id                 object\n",
       "type                    object\n",
       "title                   object\n",
       "director                object\n",
       "cast                    object\n",
       "country                 object\n",
       "date_added      datetime64[ns]\n",
       "release_year             int64\n",
       "rating                  object\n",
       "duration                object\n",
       "listed_in               object\n",
       "description             object\n",
       "dtype: object"
      ]
     },
     "execution_count": 25,
     "metadata": {},
     "output_type": "execute_result"
    }
   ],
   "source": [
    "df.dtypes"
   ]
  },
  {
   "cell_type": "code",
   "execution_count": 26,
   "id": "131447a5",
   "metadata": {},
   "outputs": [
    {
     "data": {
      "text/plain": [
       "88"
      ]
     },
     "execution_count": 26,
     "metadata": {},
     "output_type": "execute_result"
    }
   ],
   "source": [
    "df.date_added.isnull().sum()"
   ]
  },
  {
   "cell_type": "code",
   "execution_count": 27,
   "id": "fb30239d",
   "metadata": {},
   "outputs": [
    {
     "data": {
      "text/html": [
       "<div>\n",
       "<style scoped>\n",
       "    .dataframe tbody tr th:only-of-type {\n",
       "        vertical-align: middle;\n",
       "    }\n",
       "\n",
       "    .dataframe tbody tr th {\n",
       "        vertical-align: top;\n",
       "    }\n",
       "\n",
       "    .dataframe thead th {\n",
       "        text-align: right;\n",
       "    }\n",
       "</style>\n",
       "<table border=\"1\" class=\"dataframe\">\n",
       "  <thead>\n",
       "    <tr style=\"text-align: right;\">\n",
       "      <th></th>\n",
       "      <th>show_id</th>\n",
       "      <th>type</th>\n",
       "      <th>title</th>\n",
       "      <th>director</th>\n",
       "      <th>cast</th>\n",
       "      <th>country</th>\n",
       "      <th>date_added</th>\n",
       "      <th>release_year</th>\n",
       "      <th>rating</th>\n",
       "      <th>duration</th>\n",
       "      <th>listed_in</th>\n",
       "      <th>description</th>\n",
       "    </tr>\n",
       "  </thead>\n",
       "  <tbody>\n",
       "    <tr>\n",
       "      <th>6079</th>\n",
       "      <td>s6080</td>\n",
       "      <td>TV Show</td>\n",
       "      <td>Abnormal Summit</td>\n",
       "      <td>Jung-ah Im, Seung-uk Jo</td>\n",
       "      <td>Hyun-moo Jun, Si-kyung Sung, Se-yoon Yoo</td>\n",
       "      <td>South Korea</td>\n",
       "      <td>NaT</td>\n",
       "      <td>2017</td>\n",
       "      <td>TV-PG</td>\n",
       "      <td>2 Seasons</td>\n",
       "      <td>International TV Shows, Korean TV Shows, Stand...</td>\n",
       "      <td>Led by a trio of Korean celebs, a multinationa...</td>\n",
       "    </tr>\n",
       "    <tr>\n",
       "      <th>6177</th>\n",
       "      <td>s6178</td>\n",
       "      <td>TV Show</td>\n",
       "      <td>忍者ハットリくん</td>\n",
       "      <td>Unknown</td>\n",
       "      <td>Not listed</td>\n",
       "      <td>Japan</td>\n",
       "      <td>NaT</td>\n",
       "      <td>2012</td>\n",
       "      <td>TV-Y7</td>\n",
       "      <td>2 Seasons</td>\n",
       "      <td>Anime Series, Kids' TV</td>\n",
       "      <td>Hailing from the mountains of Iga, Kanzo Hatto...</td>\n",
       "    </tr>\n",
       "    <tr>\n",
       "      <th>6213</th>\n",
       "      <td>s6214</td>\n",
       "      <td>TV Show</td>\n",
       "      <td>Bad Education</td>\n",
       "      <td>Unknown</td>\n",
       "      <td>Jack Whitehall, Mathew Horne, Sarah Solemani, ...</td>\n",
       "      <td>United Kingdom</td>\n",
       "      <td>NaT</td>\n",
       "      <td>2014</td>\n",
       "      <td>TV-MA</td>\n",
       "      <td>3 Seasons</td>\n",
       "      <td>British TV Shows, TV Comedies</td>\n",
       "      <td>A history teacher at the posh Abbey Grove, Alf...</td>\n",
       "    </tr>\n",
       "    <tr>\n",
       "      <th>6279</th>\n",
       "      <td>s6280</td>\n",
       "      <td>TV Show</td>\n",
       "      <td>Being Mary Jane: The Series</td>\n",
       "      <td>Unknown</td>\n",
       "      <td>Gabrielle Union, Lisa Vidal, Margaret Avery, O...</td>\n",
       "      <td>United States</td>\n",
       "      <td>NaT</td>\n",
       "      <td>2016</td>\n",
       "      <td>TV-14</td>\n",
       "      <td>4 Seasons</td>\n",
       "      <td>Romantic TV Shows, TV Dramas</td>\n",
       "      <td>Ambitious single TV journalist Mary Jane attem...</td>\n",
       "    </tr>\n",
       "    <tr>\n",
       "      <th>6304</th>\n",
       "      <td>s6305</td>\n",
       "      <td>TV Show</td>\n",
       "      <td>Big Dreams, Small Spaces</td>\n",
       "      <td>Unknown</td>\n",
       "      <td>Monty Don</td>\n",
       "      <td>United Kingdom</td>\n",
       "      <td>NaT</td>\n",
       "      <td>2017</td>\n",
       "      <td>TV-G</td>\n",
       "      <td>3 Seasons</td>\n",
       "      <td>British TV Shows, International TV Shows, Real...</td>\n",
       "      <td>Writer and presenter Monty Don helps England's...</td>\n",
       "    </tr>\n",
       "    <tr>\n",
       "      <th>...</th>\n",
       "      <td>...</td>\n",
       "      <td>...</td>\n",
       "      <td>...</td>\n",
       "      <td>...</td>\n",
       "      <td>...</td>\n",
       "      <td>...</td>\n",
       "      <td>...</td>\n",
       "      <td>...</td>\n",
       "      <td>...</td>\n",
       "      <td>...</td>\n",
       "      <td>...</td>\n",
       "      <td>...</td>\n",
       "    </tr>\n",
       "    <tr>\n",
       "      <th>8539</th>\n",
       "      <td>s8540</td>\n",
       "      <td>TV Show</td>\n",
       "      <td>The Tudors</td>\n",
       "      <td>Unknown</td>\n",
       "      <td>Jonathan Rhys Meyers, Henry Cavill, James Frai...</td>\n",
       "      <td>Ireland, Canada, United States, United Kingdom</td>\n",
       "      <td>NaT</td>\n",
       "      <td>2010</td>\n",
       "      <td>TV-MA</td>\n",
       "      <td>4 Seasons</td>\n",
       "      <td>TV Dramas</td>\n",
       "      <td>All the splendor and scandal of England's 16th...</td>\n",
       "    </tr>\n",
       "    <tr>\n",
       "      <th>8557</th>\n",
       "      <td>s8558</td>\n",
       "      <td>TV Show</td>\n",
       "      <td>The West Wing</td>\n",
       "      <td>Unknown</td>\n",
       "      <td>Martin Sheen, Rob Lowe, Allison Janney, John S...</td>\n",
       "      <td>United States</td>\n",
       "      <td>NaT</td>\n",
       "      <td>2005</td>\n",
       "      <td>TV-14</td>\n",
       "      <td>7 Seasons</td>\n",
       "      <td>TV Dramas</td>\n",
       "      <td>This powerful political epic chronicles the tr...</td>\n",
       "    </tr>\n",
       "    <tr>\n",
       "      <th>8684</th>\n",
       "      <td>s8685</td>\n",
       "      <td>TV Show</td>\n",
       "      <td>Vroomiz</td>\n",
       "      <td>Unknown</td>\n",
       "      <td>Joon-seok Song, Jeong-hwa Yang, Sang-hyun Um, ...</td>\n",
       "      <td>South Korea</td>\n",
       "      <td>NaT</td>\n",
       "      <td>2016</td>\n",
       "      <td>TV-Y</td>\n",
       "      <td>3 Seasons</td>\n",
       "      <td>Kids' TV, Korean TV Shows</td>\n",
       "      <td>For these half-car, half-animal friends, each ...</td>\n",
       "    </tr>\n",
       "    <tr>\n",
       "      <th>8712</th>\n",
       "      <td>s8713</td>\n",
       "      <td>TV Show</td>\n",
       "      <td>Weird Wonders of the World</td>\n",
       "      <td>Unknown</td>\n",
       "      <td>Chris Packham</td>\n",
       "      <td>United Kingdom</td>\n",
       "      <td>NaT</td>\n",
       "      <td>2016</td>\n",
       "      <td>TV-PG</td>\n",
       "      <td>2 Seasons</td>\n",
       "      <td>British TV Shows, Docuseries, Science &amp; Nature TV</td>\n",
       "      <td>From animal oddities and bizarre science to me...</td>\n",
       "    </tr>\n",
       "    <tr>\n",
       "      <th>8755</th>\n",
       "      <td>s8756</td>\n",
       "      <td>TV Show</td>\n",
       "      <td>Women Behind Bars</td>\n",
       "      <td>Unknown</td>\n",
       "      <td>Not listed</td>\n",
       "      <td>United States</td>\n",
       "      <td>NaT</td>\n",
       "      <td>2010</td>\n",
       "      <td>TV-14</td>\n",
       "      <td>3 Seasons</td>\n",
       "      <td>Crime TV Shows, Docuseries</td>\n",
       "      <td>This reality series recounts true stories of w...</td>\n",
       "    </tr>\n",
       "  </tbody>\n",
       "</table>\n",
       "<p>88 rows × 12 columns</p>\n",
       "</div>"
      ],
      "text/plain": [
       "     show_id     type                        title                 director  \\\n",
       "6079   s6080  TV Show              Abnormal Summit  Jung-ah Im, Seung-uk Jo   \n",
       "6177   s6178  TV Show                     忍者ハットリくん                  Unknown   \n",
       "6213   s6214  TV Show                Bad Education                  Unknown   \n",
       "6279   s6280  TV Show  Being Mary Jane: The Series                  Unknown   \n",
       "6304   s6305  TV Show     Big Dreams, Small Spaces                  Unknown   \n",
       "...      ...      ...                          ...                      ...   \n",
       "8539   s8540  TV Show                   The Tudors                  Unknown   \n",
       "8557   s8558  TV Show                The West Wing                  Unknown   \n",
       "8684   s8685  TV Show                      Vroomiz                  Unknown   \n",
       "8712   s8713  TV Show   Weird Wonders of the World                  Unknown   \n",
       "8755   s8756  TV Show            Women Behind Bars                  Unknown   \n",
       "\n",
       "                                                   cast  \\\n",
       "6079           Hyun-moo Jun, Si-kyung Sung, Se-yoon Yoo   \n",
       "6177                                         Not listed   \n",
       "6213  Jack Whitehall, Mathew Horne, Sarah Solemani, ...   \n",
       "6279  Gabrielle Union, Lisa Vidal, Margaret Avery, O...   \n",
       "6304                                          Monty Don   \n",
       "...                                                 ...   \n",
       "8539  Jonathan Rhys Meyers, Henry Cavill, James Frai...   \n",
       "8557  Martin Sheen, Rob Lowe, Allison Janney, John S...   \n",
       "8684  Joon-seok Song, Jeong-hwa Yang, Sang-hyun Um, ...   \n",
       "8712                                      Chris Packham   \n",
       "8755                                         Not listed   \n",
       "\n",
       "                                             country date_added  release_year  \\\n",
       "6079                                     South Korea        NaT          2017   \n",
       "6177                                           Japan        NaT          2012   \n",
       "6213                                  United Kingdom        NaT          2014   \n",
       "6279                                   United States        NaT          2016   \n",
       "6304                                  United Kingdom        NaT          2017   \n",
       "...                                              ...        ...           ...   \n",
       "8539  Ireland, Canada, United States, United Kingdom        NaT          2010   \n",
       "8557                                   United States        NaT          2005   \n",
       "8684                                     South Korea        NaT          2016   \n",
       "8712                                  United Kingdom        NaT          2016   \n",
       "8755                                   United States        NaT          2010   \n",
       "\n",
       "     rating   duration                                          listed_in  \\\n",
       "6079  TV-PG  2 Seasons  International TV Shows, Korean TV Shows, Stand...   \n",
       "6177  TV-Y7  2 Seasons                             Anime Series, Kids' TV   \n",
       "6213  TV-MA  3 Seasons                      British TV Shows, TV Comedies   \n",
       "6279  TV-14  4 Seasons                       Romantic TV Shows, TV Dramas   \n",
       "6304   TV-G  3 Seasons  British TV Shows, International TV Shows, Real...   \n",
       "...     ...        ...                                                ...   \n",
       "8539  TV-MA  4 Seasons                                          TV Dramas   \n",
       "8557  TV-14  7 Seasons                                          TV Dramas   \n",
       "8684   TV-Y  3 Seasons                          Kids' TV, Korean TV Shows   \n",
       "8712  TV-PG  2 Seasons  British TV Shows, Docuseries, Science & Nature TV   \n",
       "8755  TV-14  3 Seasons                         Crime TV Shows, Docuseries   \n",
       "\n",
       "                                            description  \n",
       "6079  Led by a trio of Korean celebs, a multinationa...  \n",
       "6177  Hailing from the mountains of Iga, Kanzo Hatto...  \n",
       "6213  A history teacher at the posh Abbey Grove, Alf...  \n",
       "6279  Ambitious single TV journalist Mary Jane attem...  \n",
       "6304  Writer and presenter Monty Don helps England's...  \n",
       "...                                                 ...  \n",
       "8539  All the splendor and scandal of England's 16th...  \n",
       "8557  This powerful political epic chronicles the tr...  \n",
       "8684  For these half-car, half-animal friends, each ...  \n",
       "8712  From animal oddities and bizarre science to me...  \n",
       "8755  This reality series recounts true stories of w...  \n",
       "\n",
       "[88 rows x 12 columns]"
      ]
     },
     "execution_count": 27,
     "metadata": {},
     "output_type": "execute_result"
    }
   ],
   "source": [
    "df[df.date_added.isnull()]"
   ]
  },
  {
   "cell_type": "markdown",
   "id": "a5343bed",
   "metadata": {},
   "source": [
    "Upon inspecting the \"date_added\" column, it has been observed that 88 rows have been affected by the conversion process, resulting in the loss of these entries. Further evaluation is warranted to determine the significance of these missing values for the dataset and to decide the most appropriate course of action for the analysis."
   ]
  },
  {
   "cell_type": "markdown",
   "id": "e71ba06f",
   "metadata": {},
   "source": [
    "## Exploratory Data Analysis: Visualization, Observations, and Insights"
   ]
  },
  {
   "cell_type": "markdown",
   "id": "003f8587",
   "metadata": {},
   "source": [
    "#### Dataset Overview: Recap of Columns for Enhanced Understanding"
   ]
  },
  {
   "cell_type": "code",
   "execution_count": 28,
   "id": "bb016ef5",
   "metadata": {},
   "outputs": [
    {
     "data": {
      "text/plain": [
       "Index(['show_id', 'type', 'title', 'director', 'cast', 'country', 'date_added',\n",
       "       'release_year', 'rating', 'duration', 'listed_in', 'description'],\n",
       "      dtype='object')"
      ]
     },
     "execution_count": 28,
     "metadata": {},
     "output_type": "execute_result"
    }
   ],
   "source": [
    "df.columns"
   ]
  },
  {
   "cell_type": "code",
   "execution_count": 29,
   "id": "8fe20be9",
   "metadata": {},
   "outputs": [
    {
     "name": "stdout",
     "output_type": "stream",
     "text": [
      "<class 'pandas.core.frame.DataFrame'>\n",
      "Index: 8793 entries, 0 to 8806\n",
      "Data columns (total 12 columns):\n",
      " #   Column        Non-Null Count  Dtype         \n",
      "---  ------        --------------  -----         \n",
      " 0   show_id       8793 non-null   object        \n",
      " 1   type          8793 non-null   object        \n",
      " 2   title         8793 non-null   object        \n",
      " 3   director      8793 non-null   object        \n",
      " 4   cast          8793 non-null   object        \n",
      " 5   country       8793 non-null   object        \n",
      " 6   date_added    8705 non-null   datetime64[ns]\n",
      " 7   release_year  8793 non-null   int64         \n",
      " 8   rating        8793 non-null   object        \n",
      " 9   duration      8793 non-null   object        \n",
      " 10  listed_in     8793 non-null   object        \n",
      " 11  description   8793 non-null   object        \n",
      "dtypes: datetime64[ns](1), int64(1), object(10)\n",
      "memory usage: 893.0+ KB\n"
     ]
    }
   ],
   "source": [
    "df.info()"
   ]
  },
  {
   "cell_type": "code",
   "execution_count": 106,
   "id": "5835b564",
   "metadata": {},
   "outputs": [],
   "source": [
    "sns.set(style=\"darkgrid\")"
   ]
  },
  {
   "cell_type": "code",
   "execution_count": 107,
   "id": "2bd45789",
   "metadata": {},
   "outputs": [
    {
     "data": {
      "text/plain": [
       "country\n",
       "United States     2812\n",
       "India              972\n",
       "Unknown            829\n",
       "United Kingdom     418\n",
       "Japan              243\n",
       "South Korea        199\n",
       "Canada             181\n",
       "Spain              145\n",
       "France             124\n",
       "Mexico             110\n",
       "Egypt              106\n",
       "Turkey             105\n",
       "Nigeria             95\n",
       "Australia           85\n",
       "Taiwan              81\n",
       "Name: count, dtype: int64"
      ]
     },
     "execution_count": 107,
     "metadata": {},
     "output_type": "execute_result"
    }
   ],
   "source": [
    "# Top Countries Producing Content:\n",
    "\n",
    "df.country.value_counts().head(15)"
   ]
  },
  {
   "cell_type": "markdown",
   "id": "b9e77638",
   "metadata": {},
   "source": [
    "**Australia:**\n",
    "  - **Despite Australia being a sizable country, the production of movies on Netflix is notably low, with only 85 entries.** This observation raises questions about the representation of Australian content on the platform. Further exploration into the reasons behind this disparity could unveil opportunities for Netflix to collaborate with Australian creators and enhance its content library from the region."
   ]
  },
  {
   "cell_type": "code",
   "execution_count": 108,
   "id": "219cb606",
   "metadata": {},
   "outputs": [
    {
     "data": {
      "text/plain": [
       "<Axes: ylabel='country'>"
      ]
     },
     "execution_count": 108,
     "metadata": {},
     "output_type": "execute_result"
    },
    {
     "data": {
      "image/png": "[encoded data removed]",
      "text/plain": [
       "<Figure size 640x480 with 1 Axes>"
      ]
     },
     "metadata": {},
     "output_type": "display_data"
    }
   ],
   "source": [
    "# Visualising content produced by top 10 countries\n",
    "\n",
    "sns.barplot(y=df.country.value_counts().head(10).index, x=df.country.value_counts().head(10).values)"
   ]
  },
  {
   "cell_type": "code",
   "execution_count": 131,
   "id": "4e625099",
   "metadata": {},
   "outputs": [
    {
     "data": {
      "image/png": "[encoded data removed]",
      "text/plain": [
       "<Figure size 640x480 with 1 Axes>"
      ]
     },
     "metadata": {},
     "output_type": "display_data"
    }
   ],
   "source": [
    "plt.pie(df.country.value_counts().head(5),labels=df.country.value_counts().head().index,startangle=90, autopct='%.1f%%')\n",
    "plt.legend(loc='upper left', title=\"Country\")\n",
    "plt.title('Visualising content produced by top 5 countries')\n",
    "plt.show()"
   ]
  },
  {
   "cell_type": "markdown",
   "id": "f319dbf3",
   "metadata": {},
   "source": [
    "- **Observations and Insights**\n",
    "  1. **Dominance of USA:**\n",
    "     - The United States stands out with a substantial contribution of 2812 movies and series, highlighting a **significant market share of about 53.3%.** This large number underscores the historical presence and dominance of the USA in Netflix content production.\n",
    "\n",
    "  2. **Growing Indian Market:**\n",
    "     - **India follows with 972 movies**, which is almost one-third of the USA's count. Notably, considering **Netflix's launch in India in January 2016**, while it was introduced in the USA in 1998, **this suggests a rapidly growing market in India. The comparatively large number indicates a potential focus area for Netflix's expansion strategy.**\n",
    "\n",
    "  3. **Significant Unknown Category:**\n",
    "     - The category labeled as \"Unknown\" with 829 entries raises curiosity. Further investigation could reveal that these entries may include regional or low-budget films. **This observation suggests that Netflix serves as a platform for a diverse range of creators, irrespective of their societal standing or production scale.**\n",
    "\n",
    "  4. **United Kingdom (UK):**\n",
    "    - With 418 movies, the **UK exhibits a considerable decline in the number of movies** produced. Considering the historically remarkable movies from the UK, this decline prompts further investigation. It may suggest a need for **Netflix to encourage and support creators in the UK, potentially due to a lower production rate in recent years.**\n",
    "\n",
    "  5. **Japan:**\n",
    "    - Japan follows with 243 movies. A potential reason for this number could be explored in further research. Changes in viewer preferences, industry dynamics, or other factors might contribute to this observed decline.\n",
    "\n",
    "  6. **South Korea:**\n",
    "    - South Korea, with 199 movies, reflects changing trends in viewer preferences, especially the **global popularity of K-drama and K-pop.** **Netflix could capitalize on this trend by motivating and investing in South Korean dramas, and even producing original content with dubbing for a wider audience.**\n",
    "\n",
    "  7. **Canada:**\n",
    "    - Canada, with 181 movies, shows a relatively low count. Given its proximity to the USA and the prevalence of Canadian actors in Hollywood, the lower number may not indicate a lack of talent. There could be potential business opportunities in the Canadian region that Netflix could explore further."
   ]
  },
  {
   "cell_type": "code",
   "execution_count": 110,
   "id": "cb1c9b67",
   "metadata": {},
   "outputs": [
    {
     "data": {
      "text/plain": [
       "rating\n",
       "TV-MA    3205\n",
       "TV-14    2157\n",
       "TV-PG     861\n",
       "R         799\n",
       "PG-13     490\n",
       "TV-Y7     333\n",
       "TV-Y      306\n",
       "PG        287\n",
       "TV-G      220\n",
       "NR         79\n",
       "Name: count, dtype: int64"
      ]
     },
     "execution_count": 110,
     "metadata": {},
     "output_type": "execute_result"
    }
   ],
   "source": [
    "# top produced content\n",
    "\n",
    "df.rating.value_counts().head(10)"
   ]
  },
  {
   "cell_type": "code",
   "execution_count": 130,
   "id": "be7947c7",
   "metadata": {},
   "outputs": [
    {
     "data": {
      "text/plain": [
       "Text(0, 0.5, 'Counts')"
      ]
     },
     "execution_count": 130,
     "metadata": {},
     "output_type": "execute_result"
    },
    {
     "data": {
      "image/png": "[encoded data removed]",
      "text/plain": [
       "<Figure size 640x480 with 1 Axes>"
      ]
     },
     "metadata": {},
     "output_type": "display_data"
    }
   ],
   "source": [
    "sns.barplot(y=df.rating.value_counts().head(10).values, x=df.rating.value_counts().head(10).index)\n",
    "plt.title('Rating Analysis')\n",
    "plt.xlabel('Ratings')\n",
    "plt.ylabel('Counts')"
   ]
  },
  {
   "cell_type": "markdown",
   "id": "2188c444",
   "metadata": {},
   "source": [
    "- **Analysis of Ratings:**\n",
    "  - **TV-MA (Mature Audience):**\n",
    "    - With 3205 entries, **TV-MA dominates the ratings**, indicating a **substantial demand for adult-oriented content**. This category often includes coarse language, explicit sexual content, nudity, or intense/graphic violence. **The high count suggests a significant audience above 18 years old.**\n",
    "\n",
    "  - **TV-14 (Parents Strongly Cautioned):**\n",
    "    - Following closely, TV-14 with 2157 entries signifies content suitable for viewers 14 years and older. Given that these programs may contain material parents find unsuitable for children under 14, **it highlights a sizable teenage audience. Investing in content for this demographic could be strategically advantageous.**\n",
    "\n",
    "  - **TV-PG (Parental Guidance Suggested):**\n",
    "    - TV-PG, with 861 entries, denotes content suitable for children under parental guidance. This rating suggests a substantial audience base of families and children. **Recognizing this, Netflix may consider expanding its family-friendly content.**\n",
    "\n",
    "  - **R (Restricted):**\n",
    "    - R-rated content, totaling 799 entries, is intended for audiences above 18 years and is not suitable for individuals under this age. The significant count **indicates a robust demand for mature content with strong scenes among adult viewers.** Understanding this customer behavior can guide content production.\n",
    "    \n",
    "  - **PG-13 (Parents Strongly Cautioned):**\n",
    "      - With 490 entries, the PG-13 rating indicates content that is Parents Strongly Cautioned, as some material may be inappropriate for children under 13. **This suggests a discernible demand among pre-teens and early teenagers for content that may include stronger language, extended violence, sexual situations, or drug-use.** Recognizing this demand allows Netflix to cater to a diverse age group and tailor content accordingly.\n",
    "  \n",
    "  - **TV-Y7 (Directed to Older Children):**\n",
    "      - With 333 entries, TV-Y7 is directed to older children. The declining count could be attributed to a specific age group preference or a **lesser production focus on content specifically tailored for older children.**\n",
    "\n",
    "  - **TV-Y (All Children):**\n",
    "      - TV-Y, with 306 entries, is suitable for all children. The decrease in numbers might be due to a **shift in content preferences towards more targeted age groups**, such as TV-Y7 or other ratings.\n",
    "\n",
    "  - **PG (Parental Guidance Suggested):**\n",
    "      - PG, with 287 entries, suggests parental guidance. The decline could be influenced by a **shift in audience preferences towards more specific or mature content,** reducing the demand for content requiring parental guidance.\n",
    "\n",
    "  - **TV-G (General Audience):**\n",
    "    - TV-G, with 220 entries for a general audience, may experience a decrease due to a **potential demand for more specialized or age-specific content, resulting in a shift away from general audience programming.**\n",
    "\n",
    "   - **NR (Not Rated):**\n",
    "     - With 79 entries not rated (NR), the decline might be linked to a preference for content with explicit ratings, or it could represent a **smaller segment of the overall content library.**\n",
    "\n",
    "The reasons for declining numbers in these categories could be influenced by evolving viewer preferences, changes in production strategies, or shifts in the target audience for specific content ratings. Further market research and analysis may provide a more comprehensive understanding.\n",
    "\n",
    "These insights into viewer preferences based on ratings provide valuable information for Netflix to tailor its content strategy to meet diverse audience needs."
   ]
  },
  {
   "cell_type": "code",
   "execution_count": 129,
   "id": "e1461ba6",
   "metadata": {},
   "outputs": [
    {
     "data": {
      "image/png": "[encoded data removed]",
      "text/plain": [
       "<Figure size 640x480 with 1 Axes>"
      ]
     },
     "metadata": {},
     "output_type": "display_data"
    }
   ],
   "source": [
    "# Visualisation market share of rated audience\n",
    "\n",
    "plt.pie(df.rating.value_counts().head(5), labels=df.rating.value_counts().head(5).index, startangle=90, autopct='%.1f%%')\n",
    "plt.title('Visualisation market share of rated audience')\n",
    "plt.legend()\n",
    "plt.show()"
   ]
  },
  {
   "cell_type": "markdown",
   "id": "df8e8342",
   "metadata": {},
   "source": [
    "- TV-MA holds the largest market share, constituting approximately 42.7% of the top 5 ratings. This dominance emphasizes a significant demand for mature content, showcasing a substantial audience base for explicit and intense material.\n",
    "\n",
    "- Following closely, TV-14 holds a noteworthy share, indicating a strong appeal to audiences seeking content suitable for viewers 14 years and older. **Together, TV-MA and TV-14 contribute significantly to Netflix's content landscape.**\n",
    "\n",
    "Understanding the major market share within the top 5 ratings enables Netflix to strategically focus on content production and curation that aligns with the preferences of a substantial portion of its viewer base."
   ]
  },
  {
   "cell_type": "code",
   "execution_count": 113,
   "id": "1e463000",
   "metadata": {},
   "outputs": [
    {
     "data": {
      "text/plain": [
       "duration\n",
       "1 Season     1791\n",
       "2 Seasons     421\n",
       "3 Seasons     198\n",
       "90 min        152\n",
       "94 min        146\n",
       "97 min        146\n",
       "93 min        146\n",
       "91 min        144\n",
       "95 min        137\n",
       "96 min        130\n",
       "Name: count, dtype: int64"
      ]
     },
     "execution_count": 113,
     "metadata": {},
     "output_type": "execute_result"
    }
   ],
   "source": [
    "# Understanding data on the basis of duration\n",
    "\n",
    "df.duration.value_counts().head(10)"
   ]
  },
  {
   "cell_type": "code",
   "execution_count": 127,
   "id": "f60d255b",
   "metadata": {},
   "outputs": [
    {
     "data": {
      "image/png": "[encoded data removed]",
      "text/plain": [
       "<Figure size 640x480 with 1 Axes>"
      ]
     },
     "metadata": {},
     "output_type": "display_data"
    }
   ],
   "source": [
    "sns.barplot(y=df.duration.value_counts().head(10).index, x=df.duration.value_counts().head(10).values)\n",
    "plt.title('Duration Analysis')\n",
    "plt.xlabel('Count')\n",
    "plt.ylabel('Duration')\n",
    "plt.show()"
   ]
  },
  {
   "cell_type": "markdown",
   "id": "83273436",
   "metadata": {},
   "source": [
    "- **Duration Analysis:**\n",
    "  - **Series Dominance:**\n",
    "    - The dataset reveals a prevalence of series content, with 1 Season leading at 1791 entries. However, **there is a noticeable decline in entries for subsequent seasons** (2 Seasons and 3 Seasons). **This pattern suggests that creators often start with Season 1, but there might be challenges in maintaining popularity and audience engagement for multiple seasons. Addressing this by supporting creators and ensuring the quality and promotion of content could be beneficial.**\n",
    "\n",
    "  - **Movie Duration Trends:**\n",
    "    - Examining the movie durations, **the majority falls within the range of 90 to 97 minutes.** This insight suggests that content creators, on average, produce movies with a duration of around 1 hour and 30 minutes to 2 hours. **This aligns with viewer preferences for relatively shorter-duration movies. To meet audience expectations, Netflix can continue to support and produce content within this preferred time frame.**\n",
    "\n",
    "Understanding the dynamics of content duration helps Netflix tailor its strategy to accommodate both the prevalence of series and the preferred duration for movies, contributing to a more engaging and viewer-friendly content library."
   ]
  },
  {
   "cell_type": "code",
   "execution_count": 115,
   "id": "6bc63a6e",
   "metadata": {},
   "outputs": [
    {
     "data": {
      "text/plain": [
       "rating\n",
       "TV-14    550\n",
       "TV-MA    248\n",
       "TV-PG    134\n",
       "TV-Y7     14\n",
       "TV-G       9\n",
       "Name: count, dtype: int64"
      ]
     },
     "execution_count": 115,
     "metadata": {},
     "output_type": "execute_result"
    }
   ],
   "source": [
    "# since India is rapidly growing market, we can see their trends in content\n",
    "\n",
    "df[df.country=='India'].rating.value_counts().head()"
   ]
  },
  {
   "cell_type": "code",
   "execution_count": 125,
   "id": "c01d21d8",
   "metadata": {},
   "outputs": [
    {
     "data": {
      "image/png": "[encoded data removed]",
      "text/plain": [
       "<Figure size 640x480 with 1 Axes>"
      ]
     },
     "metadata": {},
     "output_type": "display_data"
    }
   ],
   "source": [
    "plt.pie(df[df.country=='India'].rating.value_counts().head(3), labels= df[df.country=='India'].rating.value_counts().head(3).index , autopct='%.1f%%')\n",
    "plt.title('Rating Distribution in India')\n",
    "plt.legend()\n",
    "plt.show()"
   ]
  },
  {
   "cell_type": "markdown",
   "id": "c636b4fe",
   "metadata": {},
   "source": [
    "- **Rating Distribution in India:**\n",
    "  - In India, the distribution of ratings on Netflix is as follows:\n",
    "\n",
    "    - **TV-14:**\n",
    "      - With 550 entries, TV-14 dominates the rating landscape, capturing over 59% of the market share. This indicates a substantial demand for content suitable for viewers aged 14 and older, **suggesting that a significant portion of the audience in India comprises teenagers.**\n",
    "\n",
    "    - **TV-MA:**\n",
    "      - Following closely, TV-MA has 248 entries, representing approximately 26.6% of the market share. **This suggests a considerable demand for mature audience-oriented content**, emphasizing the diverse preferences among Indian Netflix viewers.\n",
    "\n",
    "    - **TV-PG:**\n",
    "      - With 134 entries, TV-PG holds a portion of the market, catering to family-friendly content. While representing a smaller share, **it indicates an audience segment in India that prefers content suitable for children under parental guidance.**\n",
    "\n",
    "Understanding the specific rating preferences in India allows Netflix to strategically curate and produce content that aligns with the varied tastes of the Indian audience, spanning different age groups and preferences."
   ]
  },
  {
   "cell_type": "code",
   "execution_count": 117,
   "id": "e14e767b",
   "metadata": {},
   "outputs": [
    {
     "data": {
      "text/plain": [
       "type\n",
       "Movie      6129\n",
       "TV Show    2664\n",
       "Name: count, dtype: int64"
      ]
     },
     "execution_count": 117,
     "metadata": {},
     "output_type": "execute_result"
    }
   ],
   "source": [
    "# Understanding data on the basis of type of content\n",
    "\n",
    "df.type.value_counts()"
   ]
  },
  {
   "cell_type": "code",
   "execution_count": 124,
   "id": "1af89f62",
   "metadata": {},
   "outputs": [
    {
     "data": {
      "image/png": "[encoded data removed]",
      "text/plain": [
       "<Figure size 600x500 with 1 Axes>"
      ]
     },
     "metadata": {},
     "output_type": "display_data"
    }
   ],
   "source": [
    "plt.figure(figsize=(6, 5))\n",
    "sns.countplot(x='type', data=df, palette=\"Set2\")\n",
    "\n",
    "plt.title('Distribution of Movies and TV Shows on Netflix')\n",
    "plt.xlabel('Type')\n",
    "plt.ylabel('Count')\n",
    "plt.show()"
   ]
  },
  {
   "cell_type": "markdown",
   "id": "0fca947b",
   "metadata": {},
   "source": [
    "- **Analysis of Content Distribution:**\n",
    "  - The data reveals a significant disparity in the distribution of content on Netflix:\n",
    "\n",
    "    - **Movies:**\n",
    "      - With 6129 entries, movies constitute the majority of the content, showcasing a preference for shorter and potentially more time-efficient content. This higher count may align with the trend of shorter attention spans or a preference for standalone narratives.\n",
    "\n",
    "    - **TV Shows:**\n",
    "      - Following movies, TV shows have 2664 entries, almost one-third of the movie count. This could be attributed to factors such as higher production budgets, longer production times, or the evolving nature of storytelling in a serialized format.\n",
    "\n",
    "  - **Insight:**\n",
    "    - **The prevalence of movies suggests a significant demand for concise and standalone content, possibly reflecting the modern viewer's preference for shorter, on-the-go entertainment. While TV shows have a substantial presence, the difference in numbers highlights the dynamic content landscape on Netflix, catering to diverse viewing preferences.**"
   ]
  },
  {
   "cell_type": "code",
   "execution_count": 139,
   "id": "bcaff74d",
   "metadata": {},
   "outputs": [
    {
     "data": {
      "image/png": "[encoded data removed]",
      "text/plain": [
       "<Figure size 1200x600 with 1 Axes>"
      ]
     },
     "metadata": {},
     "output_type": "display_data"
    }
   ],
   "source": [
    "# Understanding data on the basis of release years \n",
    "\n",
    "plt.figure(figsize=(12, 6))\n",
    "sns.countplot(x='release_year', data=df)\n",
    "\n",
    "plt.title('Content Release Over the Years on Netflix')\n",
    "plt.xlabel('Release Year')\n",
    "plt.ylabel('Count')\n",
    "plt.xticks(rotation=90)  # Rotate x-axis labels for better visibility\n",
    "plt.show()"
   ]
  },
  {
   "cell_type": "markdown",
   "id": "4b8ff9e5",
   "metadata": {},
   "source": [
    "- **Observations on Content Release Trend:**\n",
    "  - The line plot depicting content release trends over the years reveals several notable patterns:\n",
    "\n",
    "    - **1997 to 2014:**\n",
    "      - The trend exhibits a gradual increase in content counts from 1997 to 2014. During this period, there is a steady rise, suggesting a growing presence of content on Netflix.\n",
    "\n",
    "    - **2015:**\n",
    "      - A significant spike is observed in 2015, indicating a substantial increase in content releases. This could be attributed to various factors such as increased investment in original content, partnerships, or a strategic shift in Netflix's content strategy.\n",
    "\n",
    "    - **2016 to 2020:**\n",
    "      - Following the spike, the trend maintains a relatively high count from 2016 to 2020, reflecting sustained efforts in content production and expansion during this period.\n",
    "\n",
    "    - **2021:**\n",
    "      - The lower count in 2021 may be due to incomplete data collection rather than an actual decrease in content production. It is essential to consider data completeness when interpreting the count for the most recent year.\n",
    "\n",
    "These observations provide insights into the evolution of Netflix's content library, highlighting key years of significant growth and potential shifts in content strategy. The substantial increase from 2015 onward indicates a dynamic period in Netflix's content production."
   ]
  },
  {
   "attachments": {},
   "cell_type": "markdown",
   "id": "8552c8bb",
   "metadata": {},
   "source": [
    "# Summary \n",
    "\n",
    "### Summary of Exploratory Data Analysis (EDA)\n",
    "\n",
    "#### Dataset Overview:\n",
    "- **Columns Recap:**\n",
    "  - The dataset comprises various columns including 'show_id,' 'type,' 'title,' 'director,' 'cast,' 'country,' 'date_added,' 'release_year,' 'rating,' 'duration,' 'listed_in,' and 'description.'\n",
    "\n",
    "#### Data Cleaning:\n",
    "- **Handling Null Values:**\n",
    "  - Identified and addressed null values in columns such as 'director,' 'cast,' 'country,' 'date_added,' and 'rating.'\n",
    "  - Imputed 'Unknown' for null values in the 'director' column.\n",
    "  - Removed null rows in the 'date_added' column.\n",
    "\n",
    "#### Content Distribution:\n",
    "- **Geographical Insights:**\n",
    "  - Explored the distribution of content across different countries, revealing a dominance of the USA, followed by India and an 'Unknown' category.\n",
    "  - Investigated potential reasons for a decline in movie production in the United Kingdom.\n",
    "  - Found Potential countries which can contribute in future.\n",
    "\n",
    "- **Global Genre Preferences:**\n",
    "  - Analyzed the distribution of content based on ratings, showcasing a strong demand for TV-MA and TV-14 content.\n",
    "  - Examined content preferences in India, highlighting the popularity of TV-14 and TV-MA.\n",
    "\n",
    "#### Time Trends:\n",
    "- **Release Over Years:**\n",
    "  - Identified trends in content release over the years, observing a steady increase from 1997 to 2014, a spike in 2015, and sustained growth until 2020.\n",
    "  - Acknowledged a potential data collection gap for the year 2021.\n",
    "\n",
    "#### Duration Analysis:\n",
    "- **Content Duration Trends:**\n",
    "  - Explored content duration, noting a prevalence of series (1 Season) and movies with durations around 1 hour 30 minutes to 2 hours.\n",
    "  - Discussed potential reasons for the decline in series beyond Season 1.\n",
    "\n",
    "### Insights:\n",
    "- **Viewer Preferences:**\n",
    "  - Signaled a preference for concise content, potentially reflecting modern viewers' time constraints.\n",
    "  - Identified a strong demand for TV-MA and TV-14 content globally.\n",
    "\n",
    "- **Market Opportunities:**\n",
    "  - Suggested opportunities for Netflix to cater to diverse markets, including the teenage audience in India and mature viewers globally.\n",
    "  - Indicated potential business opportunities in regions with lower content production.\n",
    "\n",
    "### Recommendations:\n",
    "- **Content Strategy:**\n",
    "  - Emphasized the need for a diverse content strategy, balancing series and movies.\n",
    "  - Encouraged the exploration of regional content opportunities.\n",
    "\n",
    "- **Targeted Productions:**\n",
    "  - Recommended targeted productions for specific age groups and demographics, aligning with global and regional preferences.\n",
    "\n",
    "This EDA provides a comprehensive overview of the dataset, highlighting key trends, insights, and recommendations for strategic decision-making in content production and distribution on Netflix."
   ]
  }
 ],
 "metadata": {
  "kernelspec": {
   "display_name": "Python 3 (ipykernel)",
   "language": "python",
   "name": "python3"
  },
  "language_info": {
   "codemirror_mode": {
    "name": "ipython",
    "version": 3
   },
   "file_extension": ".py",
   "mimetype": "text/x-python",
   "name": "python",
   "nbconvert_exporter": "python",
   "pygments_lexer": "ipython3",
   "version": "3.11.3"
  }
 },
 "nbformat": 4,
 "nbformat_minor": 5
}
